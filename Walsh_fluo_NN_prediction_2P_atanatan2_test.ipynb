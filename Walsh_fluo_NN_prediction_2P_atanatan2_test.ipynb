{
  "cells": [
    {
      "cell_type": "markdown",
      "metadata": {
        "id": "view-in-github",
        "colab_type": "text"
      },
      "source": [
        "<a href=\"https://colab.research.google.com/github/YuyaoXiao/YuyaoXiao/blob/main/Walsh_fluo_NN_prediction_2P_atanatan2_test.ipynb\" target=\"_parent\"><img src=\"https://colab.research.google.com/assets/colab-badge.svg\" alt=\"Open In Colab\"/></a>"
      ]
    },
    {
      "cell_type": "code",
      "execution_count": 1,
      "metadata": {
        "id": "8b952b28"
      },
      "outputs": [],
      "source": [
        "import tensorflow as tf\n",
        "import matplotlib.pyplot as plt\n",
        "\n"
      ],
      "id": "8b952b28"
    },
    {
      "cell_type": "code",
      "execution_count": 2,
      "metadata": {
        "id": "2oqsq5pB4ItQ",
        "colab": {
          "base_uri": "https://localhost:8080/"
        },
        "outputId": "50a8db16-886c-4320-fe40-5ca2dc8b1822"
      },
      "outputs": [
        {
          "output_type": "stream",
          "name": "stdout",
          "text": [
            "Mounted at /content/drive\n"
          ]
        }
      ],
      "source": [
        "from google.colab import drive\n",
        "drive.mount('/content/drive')"
      ],
      "id": "2oqsq5pB4ItQ"
    },
    {
      "cell_type": "markdown",
      "source": [],
      "metadata": {
        "id": "tC1jAxtEZ-fd"
      },
      "id": "tC1jAxtEZ-fd"
    },
    {
      "cell_type": "markdown",
      "metadata": {
        "id": "NpEru2vVAyBJ"
      },
      "source": [],
      "id": "NpEru2vVAyBJ"
    },
    {
      "cell_type": "code",
      "execution_count": 3,
      "metadata": {
        "colab": {
          "base_uri": "https://localhost:8080/"
        },
        "id": "fmwnHu_D-3QH",
        "outputId": "f524b055-b067-4fd4-bda9-438410d03251"
      },
      "outputs": [
        {
          "output_type": "stream",
          "name": "stdout",
          "text": [
            "(8388608, 15)\n",
            "(8388608, 31)\n",
            "(8388608, 15)\n",
            "(8388608, 16, 3, 1)\n",
            "(8388608, 15)\n",
            "(8388608, 15)\n",
            "(1024, 16, 3, 1)\n",
            "(1024, 15)\n",
            "(1024, 15)\n"
          ]
        }
      ],
      "source": [
        "##data generation\n",
        "import numpy as np\n",
        "import scipy.io\n",
        "import h5py\n",
        "# import mat73\n",
        "# import math\n",
        "# import threading\n",
        "# from tensorflow.keras.utils import Sequence\n",
        "walshsize=16\n",
        "##############################################training data set\n",
        "\n",
        "g = scipy.io.loadmat('/content/drive/MyDrive/Walsh_fluo_noise_training_20221102_wrap_atan_atan2_minus_16pixel_2P.mat')\n",
        "# print(g.keys())\n",
        "# y_val = np.array(g['coeff']) # hypercube cell\n",
        "y_val2 = np.array(g['new_label'])# Voronoi cell\n",
        "print(y_val2.shape)\n",
        "x_val = np.array(g['fluoint']) # intensity reading\n",
        "print(x_val.shape)\n",
        "z_val = np.array(g['std_cal']) # rough estiamtes of coeffs\n",
        "print(z_val.shape)\n",
        "\n",
        "nobiasint_val = np.expand_dims(np.repeat(np.expand_dims(x_val[:,0],axis=1),walshsize-1,axis = 1),axis=2)\n",
        "\n",
        "\n",
        "nobiasint2_val = np.repeat(np.expand_dims(np.expand_dims(x_val[:,0],axis=1),axis=1),3,axis = 2)\n",
        "\n",
        "\n",
        "biasint_val = x_val[:,1::].reshape(-1,walshsize-1,2)\n",
        "\n",
        "\n",
        "\n",
        "reconstructedfluoint_val = np.expand_dims(np.append(np.append(nobiasint_val,biasint_val,axis=2),nobiasint2_val,axis = 1),axis=-1)\n",
        "print(reconstructedfluoint_val.shape)  \n",
        "print(y_val2.shape)\n",
        "print(z_val.shape)\n",
        "\n",
        "\n",
        "# # ##############################################validation data set\n",
        "f = scipy.io.loadmat('/content/drive/MyDrive/Walsh_fluo_noise_validation_20221102_wrap_atan_atan2_minus_16pixel_2P.mat')\n",
        "# y_val_validation = np.array(f['coeff']) # hypercube cell\n",
        "y_val2_validation = np.array(f['new_label'])# Voronoi cell\n",
        "x_val_validation = np.array(f['fluoint']) # intensity reading\n",
        "z_val_validation = np.array(f['std_cal']) # rough estiamtes of coeffs\n",
        "\n",
        "\n",
        "nobiasint_val_validation = np.expand_dims(np.repeat(np.expand_dims(x_val_validation[:,0],axis=1),walshsize-1,axis = 1),axis=2)\n",
        "\n",
        "\n",
        "nobiasint2_val_validation = np.repeat(np.expand_dims(np.expand_dims(x_val_validation[:,0],axis=1),axis=1),3,axis = 2)\n",
        "\n",
        "\n",
        "biasint_val_validation = x_val_validation[:,1::].reshape(-1,walshsize-1,2)\n",
        "\n",
        "\n",
        "\n",
        "\n",
        "reconstructedfluoint_val_validation = np.expand_dims(np.append(np.append(nobiasint_val_validation,biasint_val_validation,axis=2),nobiasint2_val_validation,axis = 1),axis=-1)\n",
        "\n",
        "print(reconstructedfluoint_val_validation.shape)  \n",
        "print(y_val2_validation.shape)\n",
        "print(z_val_validation.shape)"
      ],
      "id": "fmwnHu_D-3QH"
    },
    {
      "cell_type": "code",
      "execution_count": null,
      "metadata": {
        "id": "SmcFJd69Iwdy"
      },
      "outputs": [],
      "source": [
        "## NN structure\n",
        "    \n",
        "from tensorflow.keras import datasets, layers, models\n",
        "\n",
        "\n",
        "########################################inputs for whole neural network\n",
        "inputs = tf.keras.Input(shape=(reconstructedfluoint_val.shape[1],reconstructedfluoint_val.shape[2],reconstructedfluoint_val.shape[3]))\n",
        "inputs2 = tf.keras.Input(shape=(z_val.shape[1]))\n",
        "\n",
        "# # the first branch operates on the first input\n",
        "# x = Dense(8, activation=\"relu\")(inputA)\n",
        "# x = Dense(4, activation=\"relu\")(x)\n",
        "# x = Model(inputs=inputA, outputs=x)\n",
        "# # the second branch opreates on the second input\n",
        "# y = Dense(64, activation=\"relu\")(inputB)\n",
        "# y = Dense(32, activation=\"relu\")(y)\n",
        "# y = Dense(4, activation=\"relu\")(y)\n",
        "# y = Model(inputs=inputB, outputs=y)\n",
        "# # combine the output of the two branches\n",
        "# combined = concatenate([x.output, y.output])\n",
        "# # apply a FC layer and then a regression prediction on the\n",
        "# # combined outputs\n",
        "# z = Dense(2, activation=\"relu\")(combined)\n",
        "# z = Dense(1, activation=\"linear\")(z)\n",
        "# # our model will accept the inputs of the two branches and\n",
        "# # then output a single value\n",
        "# model = Model(inputs=[x.input, y.input], outputs=z)\n",
        "x = layers.Conv2D(32, (1, 3), strides=(1, 1),padding=\"valid\",activation='tanh',kernel_initializer=tf.keras.initializers.GlorotUniform())(inputs)\n",
        "\n",
        "# x1 = layers.Conv2D(32, (2, 1), strides=(1, 1),padding=\"same\",activation='tanh',kernel_initializer=tf.keras.initializers.GlorotUniform)(inputs)\n",
        "# x1 = layers.MaxPool2D(pool_size=(2, 1))(x1)\n",
        "# x1 = layers.Conv2D(64, (2, 1), strides=(1, 1),padding=\"same\",activation='tanh',kernel_initializer=tf.keras.initializers.GlorotUniform)(x1)\n",
        "# x1 = layers.MaxPool2D(pool_size=(2, 1))(x1)\n",
        "# x1 = layers.Conv2D(128, (2, 1), strides=(1, 1),padding=\"same\",activation='tanh',kernel_initializer=tf.keras.initializers.GlorotUniform)(x1)\n",
        "# x1 = layers.MaxPool2D(pool_size=(2, 1))(x1)\n",
        "# x1 = layers.Conv2D(256, (2, 1), strides=(1, 1),padding=\"same\",activation='tanh',kernel_initializer=tf.keras.initializers.GlorotUniform)(x1)\n",
        "# x1 = layers.MaxPool2D(pool_size=(2, 3))(x1)\n",
        "\n",
        "x = layers.Conv2D(64, (2, 1), strides=(1, 1),padding=\"same\",activation='tanh',kernel_initializer=tf.keras.initializers.GlorotUniform())(x)\n",
        "x = layers.MaxPool2D(pool_size=(2, 1))(x)\n",
        "x = layers.Conv2D(128, (2, 1), strides=(1, 1),padding=\"same\",activation='tanh',kernel_initializer=tf.keras.initializers.GlorotUniform())(x)\n",
        "x = layers.MaxPool2D(pool_size=(2, 1))(x)\n",
        "x = layers.Conv2D(256, (2, 1), strides=(1, 1),padding=\"same\",activation='tanh',kernel_initializer=tf.keras.initializers.GlorotUniform())(x)\n",
        "x = layers.MaxPool2D(pool_size=(2, 1))(x)\n",
        "x = layers.Conv2D(512, (2, 1), strides=(1, 1),padding=\"same\",activation='tanh',kernel_initializer=tf.keras.initializers.GlorotUniform)(x)\n",
        "x = layers.MaxPool2D(pool_size=(2, 1))(x)\n",
        "# x = layers.Concatenate()([x1,x])\n",
        "\n",
        "\n",
        "x = layers.Flatten()(x)\n",
        "#x = layers.Dense(512, activation='tanh',kernel_initializer=tf.keras.initializers.GlorotUniform())(x)\n",
        "\n",
        "# x = layers.Dense(64, activation='tanh',kernel_initializer=tf.keras.initializers.GlorotUniform)(x)\n",
        "#x_output = tf.keras.layers.Dense(y_val2.shape[1], activation=tf.keras.activations.linear)(x)\n",
        "x_output = tf.keras.layers.Dense(1024, activation=tf.keras.activations.linear)(x)\n",
        "# x = tf.keras.Model(inputs=inputs, outputs=x_output)\n",
        "\n",
        "z = layers.Concatenate()([x_output,inputs2])\n",
        "#z = layers.Dense(512, activation='tanh',kernel_initializer=tf.keras.initializers.GlorotUniform())(z)\n",
        "z = layers.Dense(512, activation='tanh',kernel_initializer=tf.keras.initializers.GlorotUniform())(z)\n",
        "z = layers.Dense(256, activation='tanh',kernel_initializer=tf.keras.initializers.GlorotUniform())(z)\n",
        "z = layers.Dense(128, activation='tanh',kernel_initializer=tf.keras.initializers.GlorotUniform())(z)\n",
        "z_output = tf.keras.layers.Dense(y_val2.shape[1], activation=tf.keras.activations.linear)(z)\n",
        "\n",
        "\n",
        "model = tf.keras.Model(inputs=[inputs, inputs2], outputs=z_output)\n",
        "\n",
        "\n",
        "\n",
        "# model = models.Sequential()\n",
        "# model.add(layers.Conv2D(64, (1, 3), strides=(1, 1),padding=\"valid\",activation='relu',kernel_initializer=tf.keras.initializers.GlorotUniform, input_shape=(15,3,1)))\n",
        "\n",
        "# model.add(layers.Conv2D(128, (15, 1), strides=(1, 1),padding=\"valid\",activation='relu',kernel_initializer=tf.keras.initializers.GlorotUniform ))\n",
        "# model.add(layers.Flatten())\n",
        "# model.add(layers.Dense(64, activation='relu',kernel_initializer=tf.keras.initializers.GlorotUniform ))\n",
        "# model.add(layers.Dense(32, activation='relu',kernel_initializer=tf.keras.initializers.GlorotUniform ))\n",
        "# # model.add(layers.Dense(16, activation='relu',kernel_initializer=tf.keras.initializers.GlorotUniform ))\n",
        "\n",
        "# model.add(layers.Dense(new_label.shape[1],activation=tf.keras.activations.linear))\n",
        "\n",
        "# print(reconstructedfluoint.shape,reconstructedfluoint_val.shape,coeff.shape,new_label.shape)"
      ],
      "id": "SmcFJd69Iwdy"
    },
    {
      "cell_type": "code",
      "execution_count": 11,
      "metadata": {
        "id": "JcHJtyrFhoLy"
      },
      "outputs": [],
      "source": [
        "model=tf.keras.models.load_model(\"20230118_recheck_noise_2p_atan2atan\")"
      ],
      "id": "JcHJtyrFhoLy"
    },
    {
      "cell_type": "code",
      "execution_count": 8,
      "metadata": {
        "colab": {
          "base_uri": "https://localhost:8080/"
        },
        "id": "Yq8ERa51jGu5",
        "outputId": "661399d4-9a7c-4c9a-f71c-ec235d55870e"
      },
      "outputs": [
        {
          "output_type": "stream",
          "name": "stdout",
          "text": [
            "Epoch 1/5\n",
            "512/512 - 124s - loss: 0.0596 - val_loss: 0.0076 - 124s/epoch - 241ms/step\n",
            "Epoch 2/5\n",
            "512/512 - 124s - loss: 0.0595 - val_loss: 0.0079 - 124s/epoch - 243ms/step\n",
            "Epoch 3/5\n",
            "512/512 - 125s - loss: 0.0595 - val_loss: 0.0065 - 125s/epoch - 243ms/step\n",
            "Epoch 4/5\n",
            "512/512 - 125s - loss: 0.0594 - val_loss: 0.0063 - 125s/epoch - 243ms/step\n",
            "Epoch 5/5\n",
            "512/512 - 125s - loss: 0.0593 - val_loss: 0.0065 - 125s/epoch - 243ms/step\n",
            "Model saved\n"
          ]
        }
      ],
      "source": [
        "model.compile(optimizer=tf.keras.optimizers.Adam(learning_rate=1e-4), loss=tf.keras.losses.MeanSquaredError())\n",
        "history=model.fit(x=[reconstructedfluoint_val,z_val],y=y_val2,epochs=5,shuffle=True,steps_per_epoch=512,verbose=2,validation_data=([reconstructedfluoint_val_validation,z_val_validation],y_val2_validation))\n",
        "\n",
        "from google.colab import files\n",
        "import csv\n",
        "with open('/content/drive/MyDrive/20230118_recheck_noise_2p_atan2atan.csv','a+') as f:\n",
        "  writer=csv.writer(f)\n",
        "  writer.writerow(np.squeeze(history.history['loss']))\n",
        "  writer.writerow(np.squeeze(history.history['val_loss']))\n",
        "\n",
        "model_name='/content/drive/MyDrive/20230118_recheck_noise_2p_atan2atan.h5'\n",
        "model.save(model_name)\n",
        "print('Model saved')\n"
      ],
      "id": "Yq8ERa51jGu5"
    },
    {
      "cell_type": "code",
      "execution_count": 9,
      "metadata": {
        "colab": {
          "base_uri": "https://localhost:8080/",
          "height": 298
        },
        "id": "xApAzacAP3X3",
        "outputId": "a7526608-38fc-4e1b-af7e-299bd82c8efa"
      },
      "outputs": [
        {
          "output_type": "execute_result",
          "data": {
            "text/plain": [
              "<function matplotlib.pyplot.legend(*args, **kwargs)>"
            ]
          },
          "metadata": {},
          "execution_count": 9
        },
        {
          "output_type": "display_data",
          "data": {
            "text/plain": [
              "<Figure size 432x288 with 1 Axes>"
            ],
            "image/png": "[encoded data removed]"
          },
          "metadata": {
            "needs_background": "light"
          }
        }
      ],
      "source": [
        "epochs=range(len(history.history['loss']))\n",
        "plt.figure()\n",
        "plt.plot(epochs,history.history['loss'],label='Training loss')\n",
        "plt.plot(epochs,history.history['val_loss'])\n",
        "plt.title('Training loss')\n",
        "plt.legend\n",
        "# plt.ylim((0,0.2))\n",
        "# fig_name='./Loss_fig_20220707_1e-4_16batch'\n",
        "# plt.savefig(fig_name)\n",
        "# from google.colab import files\n",
        "# files.download('Loss_fig_20220627_0to200epoch.png')"
      ],
      "id": "xApAzacAP3X3"
    },
    {
      "cell_type": "code",
      "source": [
        "###data generation\n",
        "###1D walsh\n",
        "from scipy.linalg import hadamard\n",
        "from sympy.combinatorics import GrayCode\n",
        "import numpy as np\n",
        "import math\n",
        "\n",
        "#####generate 1d Walsh\n",
        "def walsh(N):\n",
        "  H=hadamard(N)\n",
        " \n",
        "  ##re-order\n",
        "  graycode=GrayCode(N/2)\n",
        "  \n",
        "  graycode=list(graycode.generate_gray())\n",
        "\n",
        "  graycode=np.expand_dims(graycode,axis=1)\n",
        " \n",
        "  j=0\n",
        "  graycode_new=np.zeros(N,dtype=int)\n",
        "  \n",
        "  for i in range(graycode.shape[0]):\n",
        "    if int((graycode[i])[0][::-1],2)<N:\n",
        "      graycode_new[j]=int((graycode[i])[0][::-1],2)\n",
        "      j=j+1\n",
        "\n",
        "  H_new=np.zeros([N,N],dtype=int)\n",
        "\n",
        "  for i in range(H.shape[0]):\n",
        "     H_new[i]=H[int(graycode_new[i])]\n",
        "  return H_new\n",
        "###########################################################set sample number\n",
        "validation_size=2**10\n",
        "walshsize=16\n",
        "Walsh1D=walsh(walshsize)\n",
        "########validation dataset generation\n",
        "y_val_validation=((np.random.rand(validation_size,walshsize-1))-0.5)*np.pi # hypercube cell coefficients\n",
        "y_val2_validation = np.zeros([validation_size,walshsize-1])# Voronoi cell labels\n",
        "x_val_validation = np.zeros([validation_size,walshsize*2-1]) # intensity reading\n",
        "z_val_validation = np.zeros([validation_size,walshsize-1]) # rough estiamtes of coeffs\n",
        "z_val2_validation = np.zeros([validation_size,walshsize-1]) # wrapped rough estiamtes of coeffs\n",
        "\n",
        "SR_NN=np.zeros([validation_size,1])\n",
        "\n",
        "\n",
        "\n",
        "####################################################################NN correction\n",
        "for counti in range (validation_size):\n",
        "  abb=np.zeros(walshsize)\n",
        "  for i in range(1,walshsize):\n",
        "    abb=abb+Walsh1D[i]*y_val_validation[counti][i-1]\n",
        "  \n",
        "  pupilfield=np.exp(abb*1j)\n",
        "  SR_NN[counti]=np.abs(np.sum(pupilfield)/walshsize)**2## calculate original Strehl ratio\n",
        "  new_abb=abb-np.angle(np.sum(pupilfield)/walshsize)#remove phasor\n",
        "  new_abb=np.angle(np.exp(new_abb*1j))# phase wrap\n",
        "  for i in range(1,walshsize):\n",
        "    y_val2_validation[counti][i-1]=np.sum(new_abb*Walsh1D[i])/np.sum(Walsh1D[i]*Walsh1D[i])##walsh mode decompose\n",
        "  \n",
        "  x_val_validation[counti][0]=np.abs(np.sum(np.exp(new_abb*1j))/walshsize)**4## non-biased intensity\n",
        "  for i in range(1,walshsize):\n",
        "    x_val_validation[counti][2*i-1]=np.abs(np.sum(np.exp((new_abb+Walsh1D[i]*(np.pi/3))*1j))/walshsize)**4  ###+biased intensity reading\n",
        "    x_val_validation[counti][2*i]=np.abs(np.sum(np.exp((new_abb-Walsh1D[i]*(np.pi/3))*1j))/walshsize)**4  ###-biased intensity reading\n",
        "  #add noise\n",
        "  lambdalambda=np.random.uniform(10,1e4)\n",
        "  x_val_validation[counti][:]=np.random.poisson(np.round(x_val_validation[counti][:]*lambdalambda))/lambdalambda\n",
        "  for i in range(1,walshsize):\n",
        "    z_val_validation[counti][i-1]=0.5*np.arctan2(-(math.sqrt(3))*(math.sqrt(x_val_validation[counti][2*i-1])-math.sqrt(x_val_validation[counti][2*i])),(-math.sqrt(x_val_validation[counti][2*i-1])-math.sqrt(x_val_validation[counti][2*i])+2*math.sqrt(x_val_validation[counti][0])))\n",
        "  ###wrap z into std_cal\n",
        "  abb=np.zeros(walshsize)\n",
        "  for i in range(1,walshsize):\n",
        "    abb=abb+Walsh1D[i]*z_val_validation[counti][i-1]\n",
        "  \n",
        "    pupilfield=np.exp(abb*1j)\n",
        " \n",
        "    new_abb=abb-np.angle(np.sum(pupilfield)/walshsize)#remove phasor\n",
        "    new_abb=np.angle(np.exp(new_abb*1j))# phase wrap\n",
        "  for i in range(1,walshsize):\n",
        "    z_val2_validation[counti][i-1]=np.sum(new_abb*Walsh1D[i])/np.sum(Walsh1D[i]*Walsh1D[i])##walsh mode decompose \n",
        "#validation data set\n",
        "nobiasint_val_validation = np.expand_dims(np.repeat(np.expand_dims(x_val_validation[:,0],axis=1),walshsize-1,axis = 1),axis=2)\n",
        "\n",
        "nobiasint2_val_validation = np.repeat(np.expand_dims(np.expand_dims(x_val_validation[:,0],axis=1),axis=1),3,axis = 2)\n",
        "\n",
        "biasint_val_validation = x_val_validation[:,1::].reshape(-1,walshsize-1,2)\n",
        "\n",
        "reconstructedfluoint_val_validation = np.expand_dims(np.append(np.append(nobiasint_val_validation,biasint_val_validation,axis=2),nobiasint2_val_validation,axis = 1),axis=-1)\n",
        "\n",
        "# print(nobiasint_val_validation.shape,nobiasint2_val_validation.shape,biasint_val_validation.shape,reconstructedfluoint_val_validation.shape)  \n",
        "\n",
        "\n",
        "\n",
        "############################################################################# do predictions\n",
        "pred_test = model.predict([reconstructedfluoint_val_validation,z_val2_validation])\n",
        "#########################################################################calculate SR\n",
        "\n",
        "\n",
        "###calculate original Strehl ratio\n",
        "print('original SR',round(np.average(SR_NN),4))\n",
        "\n",
        "#######################################################\n",
        "aberration=pred_test-y_val2_validation;\n",
        "for counti in range (validation_size):\n",
        "  abb=np.zeros(walshsize)\n",
        "  for i in range(1,walshsize):\n",
        "    abb=abb+Walsh1D[i]*aberration[counti][i-1]\n",
        "  \n",
        "  pupilfield=np.exp(abb*1j)\n",
        "  SR_NN[counti]=np.abs(np.sum(pupilfield)/walshsize)**2## calculate original Strehl ratio\n",
        "print('NN validation 1st',round(np.average(SR_NN),4))\n",
        "#####################################################################################\n",
        "########################################################### validation 2nd round\n",
        "###loop\n",
        "for I in range (10): \n",
        "   y_val_validation=y_val2_validation-pred_test\n",
        "###############################\n",
        "   y_val2_validation = np.zeros([validation_size,walshsize-1])# Voronoi cell labels\n",
        "   x_val_validation = np.zeros([validation_size,walshsize*2-1]) # intensity reading\n",
        "   z_val_validation = np.zeros([validation_size,walshsize-1]) # rough estiamtes of coeffs\n",
        "   z_val2_validation = np.zeros([validation_size,walshsize-1]) # wrapped rough estiamtes of coeffs\n",
        "#######################################\n",
        "   for counti in range (validation_size):\n",
        "     abb=np.zeros(walshsize)\n",
        "     for i in range(1,walshsize):\n",
        "       abb=abb+Walsh1D[i]*y_val_validation[counti][i-1]\n",
        "  \n",
        "     pupilfield=np.exp(abb*1j)\n",
        " \n",
        "     new_abb=abb-np.angle(np.sum(pupilfield)/walshsize)#remove phasor\n",
        "     new_abb=np.angle(np.exp(new_abb*1j))# phase wrap\n",
        "     for i in range(1,walshsize):\n",
        "       y_val2_validation[counti][i-1]=np.sum(new_abb*Walsh1D[i])/np.sum(Walsh1D[i]*Walsh1D[i])##walsh mode decompose\n",
        "  \n",
        "     x_val_validation[counti][0]=np.abs(np.sum(np.exp(new_abb*1j))/walshsize)**4## non-biased intensity\n",
        "     for i in range(1,walshsize):\n",
        "       x_val_validation[counti][2*i-1]=np.abs(np.sum(np.exp((new_abb+Walsh1D[i]*(np.pi/3))*1j))/walshsize)**4  ###+biased intensity reading\n",
        "       x_val_validation[counti][2*i]=np.abs(np.sum(np.exp((new_abb-Walsh1D[i]*(np.pi/3))*1j))/walshsize)**4  ###-biased intensity reading\n",
        "     #add noise\n",
        "     lambdalambda=np.random.uniform(10,1e4)\n",
        "     x_val_validation[counti][:]=np.random.poisson(np.round(x_val_validation[counti][:]*lambdalambda))/lambdalambda\n",
        "     for i in range(1,walshsize):\n",
        "       z_val_validation[counti][i-1]=0.5*np.arctan2((-math.sqrt(3))*(math.sqrt(x_val_validation[counti][2*i-1])-math.sqrt(x_val_validation[counti][2*i])),(-math.sqrt(x_val_validation[counti][2*i-1])-math.sqrt(x_val_validation[counti][2*i])+2*math.sqrt(x_val_validation[counti][0])))\n",
        "     ###wrap z into std_cal\n",
        "     abb=np.zeros(walshsize)\n",
        "     for i in range(1,walshsize):\n",
        "       abb=abb+Walsh1D[i]*z_val_validation[counti][i-1]\n",
        "  \n",
        "       pupilfield=np.exp(abb*1j)\n",
        " \n",
        "       new_abb=abb-np.angle(np.sum(pupilfield)/walshsize)#remove phasor\n",
        "       new_abb=np.angle(np.exp(new_abb*1j))# phase wrap\n",
        "     for i in range(1,walshsize):\n",
        "       z_val2_validation[counti][i-1]=np.sum(new_abb*Walsh1D[i])/np.sum(Walsh1D[i]*Walsh1D[i])##walsh mode decompose \n",
        "   #validation data set\n",
        "   nobiasint_val_validation = np.expand_dims(np.repeat(np.expand_dims(x_val_validation[:,0],axis=1),walshsize-1,axis = 1),axis=2)\n",
        "\n",
        "   nobiasint2_val_validation = np.repeat(np.expand_dims(np.expand_dims(x_val_validation[:,0],axis=1),axis=1),3,axis = 2)\n",
        "\n",
        "   biasint_val_validation = x_val_validation[:,1::].reshape(-1,walshsize-1,2)\n",
        "\n",
        "   reconstructedfluoint_val_validation = np.expand_dims(np.append(np.append(nobiasint_val_validation,biasint_val_validation,axis=2),nobiasint2_val_validation,axis = 1),axis=-1)\n",
        "\n",
        "   ## nth round\n",
        "   pred_test = model.predict([reconstructedfluoint_val_validation,z_val2_validation])\n",
        "   # print(pred_test)\n",
        "   ####\n",
        "   aberration=pred_test-y_val2_validation;\n",
        "   for counti in range (validation_size):\n",
        "     abb=np.zeros(walshsize)\n",
        "     for i in range(1,walshsize):\n",
        "       abb=abb+Walsh1D[i]*aberration[counti][i-1]\n",
        "  \n",
        "     pupilfield=np.exp(abb*1j)\n",
        "     SR_NN[counti]=np.abs(np.sum(pupilfield)/walshsize)**2## calculate original Strehl ratio\n",
        "  \n",
        "\n",
        "   \n",
        "   print(I+2,'th round',round(np.average(SR_NN),4))"
      ],
      "metadata": {
        "colab": {
          "base_uri": "https://localhost:8080/"
        },
        "id": "L69CR-Dc6rDH",
        "outputId": "26e94eba-d479-4ad8-d012-801de9461979"
      },
      "id": "L69CR-Dc6rDH",
      "execution_count": 12,
      "outputs": [
        {
          "output_type": "stream",
          "name": "stdout",
          "text": [
            "32/32 [==============================] - 0s 2ms/step\n",
            "original SR 0.0629\n",
            "NN validation 1st 0.5183\n",
            "32/32 [==============================] - 0s 2ms/step\n",
            "2 th round 0.8402\n",
            "32/32 [==============================] - 0s 2ms/step\n",
            "3 th round 0.8533\n",
            "32/32 [==============================] - 0s 2ms/step\n",
            "4 th round 0.8733\n",
            "32/32 [==============================] - 0s 2ms/step\n",
            "5 th round 0.8635\n",
            "32/32 [==============================] - 0s 2ms/step\n",
            "6 th round 0.8717\n",
            "32/32 [==============================] - 0s 2ms/step\n",
            "7 th round 0.866\n",
            "32/32 [==============================] - 0s 2ms/step\n",
            "8 th round 0.868\n",
            "32/32 [==============================] - 0s 2ms/step\n",
            "9 th round 0.8616\n",
            "32/32 [==============================] - 0s 2ms/step\n",
            "10 th round 0.8666\n",
            "32/32 [==============================] - 0s 2ms/step\n",
            "11 th round 0.8636\n"
          ]
        }
      ]
    },
    {
      "cell_type": "markdown",
      "metadata": {
        "id": "fE3CQP8D4sc7"
      },
      "source": [],
      "id": "fE3CQP8D4sc7"
    },
    {
      "cell_type": "markdown",
      "metadata": {
        "id": "Blz8sRvCA_Zo"
      },
      "source": [],
      "id": "Blz8sRvCA_Zo"
    }
  ],
  "metadata": {
    "accelerator": "GPU",
    "colab": {
      "machine_shape": "hm",
      "provenance": [],
      "include_colab_link": true
    },
    "gpuClass": "standard",
    "kernelspec": {
      "display_name": "Python 3",
      "language": "python",
      "name": "python3"
    },
    "language_info": {
      "codemirror_mode": {
        "name": "ipython",
        "version": 3
      },
      "file_extension": ".py",
      "mimetype": "text/x-python",
      "name": "python",
      "nbconvert_exporter": "python",
      "pygments_lexer": "ipython3",
      "version": "3.9.4"
    }
  },
  "nbformat": 4,
  "nbformat_minor": 5
}